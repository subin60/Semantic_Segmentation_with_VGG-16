{
 "cells": [
  {
   "cell_type": "code",
   "execution_count": 1,
   "id": "ee0bcea2-8aeb-4cfd-b616-da7554b28671",
   "metadata": {
    "tags": []
   },
   "outputs": [
    {
     "name": "stdout",
     "output_type": "stream",
     "text": [
      "--2023-04-18 09:59:50--  https://storage.googleapis.com/ztm_tf_course/food_vision/pizza_steak.zip\n",
      "Resolving storage.googleapis.com (storage.googleapis.com)... 142.250.191.112, 142.250.191.144, 142.250.191.176, ...\n",
      "Connecting to storage.googleapis.com (storage.googleapis.com)|142.250.191.112|:443... connected.\n",
      "HTTP request sent, awaiting response... 200 OK\n",
      "Length: 109540975 (104M) [application/zip]\n",
      "Saving to: 'pizza_steak.zip'\n",
      "\n",
      "pizza_steak.zip     100%[===================>] 104.47M  96.7MB/s    in 1.1s    \n",
      "\n",
      "2023-04-18 09:59:51 (96.7 MB/s) - 'pizza_steak.zip' saved [109540975/109540975]\n",
      "\n"
     ]
    }
   ],
   "source": [
    "import zipfile\n",
    "\n",
    "!wget https://storage.googleapis.com/ztm_tf_course/food_vision/pizza_steak.zip \n",
    "\n",
    "#zip_ref = zipfile.ZipFile('pizza_steak.zip')\n",
    "#zip_ref.extractall()\n",
    "#zip_ref.close()\n"
   ]
  },
  {
   "cell_type": "code",
   "execution_count": 8,
   "id": "14875331-dc6b-482f-8879-e6a863d8d9f0",
   "metadata": {
    "tags": []
   },
   "outputs": [
    {
     "name": "stdout",
     "output_type": "stream",
     "text": [
      "Package                       Version\n",
      "----------------------------- -----------\n",
      "absl-py                       1.4.0\n",
      "aiohttp                       3.8.4\n",
      "aiosignal                     1.3.1\n",
      "anyio                         3.6.2\n",
      "argon2-cffi                   21.3.0\n",
      "argon2-cffi-bindings          21.2.0\n",
      "asttokens                     2.2.1\n",
      "astunparse                    1.6.3\n",
      "async-timeout                 4.0.2\n",
      "attrs                         22.2.0\n",
      "backcall                      0.2.0\n",
      "backports.functools-lru-cache 1.6.4\n",
      "beautifulsoup4                4.12.2\n",
      "bleach                        6.0.0\n",
      "blinker                       1.6.2\n",
      "brotlipy                      0.7.0\n",
      "cached-property               1.5.2\n",
      "cachetools                    5.3.0\n",
      "certifi                       2022.12.7\n",
      "cffi                          1.15.1\n",
      "charset-normalizer            2.1.1\n",
      "click                         8.1.3\n",
      "cloudpickle                   2.2.1\n",
      "comm                          0.1.3\n",
      "contourpy                     1.0.7\n",
      "cryptography                  40.0.2\n",
      "cycler                        0.11.0\n",
      "cytoolz                       0.12.0\n",
      "dask                          2023.4.0\n",
      "debugpy                       1.6.7\n",
      "decorator                     5.1.1\n",
      "defusedxml                    0.7.1\n",
      "entrypoints                   0.4\n",
      "executing                     1.2.0\n",
      "fastjsonschema                2.16.3\n",
      "flatbuffers                   23.1.21\n",
      "flit_core                     3.8.0\n",
      "fonttools                     4.39.3\n",
      "frozenlist                    1.3.3\n",
      "fsspec                        2023.4.0\n",
      "gast                          0.4.0\n",
      "google-auth                   2.17.3\n",
      "google-auth-oauthlib          0.4.6\n",
      "google-pasta                  0.2.0\n",
      "grpcio                        1.51.1\n",
      "h5py                          3.8.0\n",
      "idna                          3.4\n",
      "imagecodecs                   2023.1.23\n",
      "imageio                       2.27.0\n",
      "importlib-metadata            6.4.1\n",
      "importlib-resources           5.12.0\n",
      "ipykernel                     6.22.0\n",
      "ipython                       8.12.0\n",
      "ipython-genutils              0.2.0\n",
      "ipywidgets                    8.0.6\n",
      "jedi                          0.18.2\n",
      "Jinja2                        3.1.2\n",
      "joblib                        1.2.0\n",
      "jsonschema                    4.17.3\n",
      "jupyter                       1.0.0\n",
      "jupyter_client                8.2.0\n",
      "jupyter-console               6.6.3\n",
      "jupyter_core                  5.3.0\n",
      "jupyter-events                0.6.3\n",
      "jupyter_server                2.5.0\n",
      "jupyter_server_terminals      0.4.4\n",
      "jupyterlab-pygments           0.2.2\n",
      "jupyterlab-widgets            3.0.7\n",
      "keras                         2.11.0\n",
      "Keras-Preprocessing           1.1.2\n",
      "kiwisolver                    1.4.4\n",
      "lazy_loader                   0.2\n",
      "locket                        1.0.0\n",
      "Markdown                      3.4.3\n",
      "MarkupSafe                    2.1.2\n",
      "matplotlib                    3.7.1\n",
      "matplotlib-inline             0.1.6\n",
      "mistune                       2.0.5\n",
      "multidict                     6.0.4\n",
      "munkres                       1.1.4\n",
      "nbclassic                     0.5.5\n",
      "nbclient                      0.7.3\n",
      "nbconvert                     7.3.1\n",
      "nbformat                      5.8.0\n",
      "nest-asyncio                  1.5.6\n",
      "networkx                      3.1\n",
      "notebook                      6.5.4\n",
      "notebook_shim                 0.2.2\n",
      "numpy                         1.24.2\n",
      "oauthlib                      3.2.2\n",
      "opencv-python                 4.7.0\n",
      "opt-einsum                    3.3.0\n",
      "packaging                     23.1\n",
      "pandas                        2.0.0\n",
      "pandocfilters                 1.5.0\n",
      "parso                         0.8.3\n",
      "partd                         1.4.0\n",
      "pexpect                       4.8.0\n",
      "pickleshare                   0.7.5\n",
      "Pillow                        9.5.0\n",
      "pip                           23.1\n",
      "pkgutil_resolve_name          1.3.10\n",
      "platformdirs                  3.2.0\n",
      "ply                           3.11\n",
      "prometheus-client             0.16.0\n",
      "prompt-toolkit                3.0.38\n",
      "protobuf                      4.21.12\n",
      "psutil                        5.9.4\n",
      "ptyprocess                    0.7.0\n",
      "pure-eval                     0.2.2\n",
      "pyasn1                        0.4.8\n",
      "pyasn1-modules                0.2.7\n",
      "pycparser                     2.21\n",
      "Pygments                      2.15.0\n",
      "PyJWT                         2.6.0\n",
      "pyOpenSSL                     23.1.1\n",
      "pyparsing                     3.0.9\n",
      "PyQt5                         5.15.7\n",
      "PyQt5-sip                     12.11.0\n",
      "pyrsistent                    0.19.3\n",
      "PySocks                       1.7.1\n",
      "python-dateutil               2.8.2\n",
      "python-json-logger            2.0.7\n",
      "pytz                          2023.3\n",
      "pyu2f                         0.1.5\n",
      "PyWavelets                    1.4.1\n",
      "PyYAML                        6.0\n",
      "pyzmq                         25.0.2\n",
      "qtconsole                     5.4.2\n",
      "QtPy                          2.3.1\n",
      "requests                      2.28.2\n",
      "requests-oauthlib             1.3.1\n",
      "rfc3339-validator             0.1.4\n",
      "rfc3986-validator             0.1.1\n",
      "rsa                           4.9\n",
      "scikit-image                  0.20.0\n",
      "scikit-learn                  1.2.2\n",
      "scipy                         1.9.1\n",
      "Send2Trash                    1.8.0\n",
      "setuptools                    67.6.1\n",
      "sip                           6.7.8\n",
      "six                           1.16.0\n",
      "sniffio                       1.3.0\n",
      "soupsieve                     2.3.2.post1\n",
      "stack-data                    0.6.2\n",
      "tensorboard                   2.11.2\n",
      "tensorboard-data-server       0.6.1\n",
      "tensorboard-plugin-wit        1.8.1\n",
      "tensorflow                    2.11.1\n",
      "tensorflow-estimator          2.11.0\n",
      "termcolor                     2.2.0\n",
      "terminado                     0.17.1\n",
      "threadpoolctl                 3.1.0\n",
      "tifffile                      2023.4.12\n",
      "tinycss2                      1.2.1\n",
      "toml                          0.10.2\n",
      "tomli                         2.0.1\n",
      "toolz                         0.12.0\n",
      "tornado                       6.2\n",
      "traitlets                     5.9.0\n",
      "typing_extensions             4.5.0\n",
      "tzdata                        2023.3\n",
      "unicodedata2                  15.0.0\n",
      "urllib3                       1.26.15\n",
      "wcwidth                       0.2.6\n",
      "webencodings                  0.5.1\n",
      "websocket-client              1.5.1\n",
      "Werkzeug                      2.2.3\n",
      "wheel                         0.40.0\n",
      "widgetsnbextension            4.0.7\n",
      "wrapt                         1.15.0\n",
      "yarl                          1.8.2\n",
      "zipp                          3.15.0\n",
      "Note: you may need to restart the kernel to use updated packages.\n"
     ]
    }
   ],
   "source": [
    "pip list"
   ]
  },
  {
   "cell_type": "code",
   "execution_count": 1,
   "id": "0e5a30b8-cbd9-4acd-87fa-c8a6f2a10280",
   "metadata": {
    "tags": []
   },
   "outputs": [],
   "source": [
    "import tensorflow as tf"
   ]
  },
  {
   "cell_type": "code",
   "execution_count": 9,
   "id": "f4a98f65-ac41-40d9-a29a-0c3b66191973",
   "metadata": {
    "tags": []
   },
   "outputs": [
    {
     "name": "stdout",
     "output_type": "stream",
     "text": [
      "Found 1500 images belonging to 2 classes.\n",
      "Found 500 images belonging to 2 classes.\n",
      "Epoch 1/5\n",
      "47/47 [==============================] - 6s 102ms/step - loss: 0.5557 - accuracy: 0.7120 - val_loss: 0.4276 - val_accuracy: 0.8060\n",
      "Epoch 2/5\n",
      "47/47 [==============================] - 5s 99ms/step - loss: 0.4310 - accuracy: 0.8033 - val_loss: 0.3625 - val_accuracy: 0.8520\n",
      "Epoch 3/5\n",
      "47/47 [==============================] - 5s 96ms/step - loss: 0.3939 - accuracy: 0.8300 - val_loss: 0.3396 - val_accuracy: 0.8580\n",
      "Epoch 4/5\n",
      "47/47 [==============================] - 5s 96ms/step - loss: 0.3726 - accuracy: 0.8327 - val_loss: 0.4665 - val_accuracy: 0.7540\n",
      "Epoch 5/5\n",
      "47/47 [==============================] - 4s 93ms/step - loss: 0.3892 - accuracy: 0.8300 - val_loss: 0.3565 - val_accuracy: 0.8680\n"
     ]
    }
   ],
   "source": [
    "import tensorflow as tf\n",
    "from tensorflow.keras.preprocessing.image import ImageDataGenerator\n",
    "\n",
    "tf.random.set_seed(42)\n",
    "\n",
    "train_datagen = ImageDataGenerator(rescale=1./255)\n",
    "\n",
    "valid_datagen = ImageDataGenerator(rescale=1./255)\n",
    "\n",
    "train_dir = 'pizza_steak/train'\n",
    "test_dir = 'pizza_steak/test'\n",
    "\n",
    "train_data = train_datagen.flow_from_directory(train_dir,\n",
    "                                               batch_size=32,\n",
    "                                               target_size=(224,224),\n",
    "                                               class_mode='binary',\n",
    "                                               seed=42)\n",
    "valid_data = valid_datagen.flow_from_directory(test_dir,\n",
    "                                               batch_size=32,\n",
    "                                               target_size=(224,224),\n",
    "                                               class_mode='binary',\n",
    "                                               seed=42)\n",
    "\n",
    "model_1 = tf.keras.models.Sequential([\n",
    "    tf.keras.layers.Conv2D(filters=10,\n",
    "                           kernel_size=3,\n",
    "                           activation='relu',\n",
    "                           input_shape=(224, 224, 3)),\n",
    "    tf.keras.layers.Conv2D(10, 3, activation='relu'),\n",
    "    tf.keras.layers.MaxPool2D(pool_size=2,\n",
    "                              padding='valid'),\n",
    "    tf.keras.layers.Conv2D(10, 3, activation='relu'),\n",
    "    tf.keras.layers.Conv2D(10, 3, activation='relu'),\n",
    "    tf.keras.layers.MaxPool2D(2),\n",
    "    tf.keras.layers.Flatten(),\n",
    "    tf.keras.layers.Dense(1, activation='sigmoid')\n",
    "])\n",
    "\n",
    "model_1.compile(loss='binary_crossentropy',\n",
    "                optimizer=tf.keras.optimizers.Adam(),\n",
    "                metrics=['accuracy'])\n",
    "\n",
    "history_1 = model_1.fit(train_data, \n",
    "                        epochs=5, \n",
    "                        steps_per_epoch=len(train_data),\n",
    "                        validation_data=valid_data,\n",
    "                        validation_steps=len(valid_data))"
   ]
  },
  {
   "cell_type": "code",
   "execution_count": 10,
   "id": "ea615ffe-3afb-4abd-9a06-ea5b6af7de17",
   "metadata": {
    "tags": []
   },
   "outputs": [
    {
     "name": "stdout",
     "output_type": "stream",
     "text": [
      "Name: tensorflow\n",
      "Version: 2.11.1\n",
      "Summary: TensorFlow is an open source machine learning framework for everyone.\n",
      "Home-page: https://www.tensorflow.org/\n",
      "Author: Google Inc.\n",
      "Author-email: packages@tensorflow.org\n",
      "License: Apache 2.0\n",
      "Location: /home/studio-lab-user/.conda/envs/fpwbs_v1/lib/python3.9/site-packages\n",
      "Requires: absl-py, astunparse, flatbuffers, gast, google-pasta, grpcio, h5py, keras, numpy, opt-einsum, packaging, protobuf, setuptools, six, tensorboard, tensorflow-estimator, termcolor, typing-extensions, wrapt\n",
      "Required-by: \n",
      "Note: you may need to restart the kernel to use updated packages.\n"
     ]
    }
   ],
   "source": [
    "pip show tensorflow"
   ]
  },
  {
   "cell_type": "code",
   "execution_count": 5,
   "id": "0e519e11-66f0-422d-82dc-adea4577b760",
   "metadata": {
    "tags": []
   },
   "outputs": [
    {
     "name": "stdout",
     "output_type": "stream",
     "text": [
      "nvcc: NVIDIA (R) Cuda compiler driver\n",
      "Copyright (c) 2005-2021 NVIDIA Corporation\n",
      "Built on Sun_Feb_14_21:12:58_PST_2021\n",
      "Cuda compilation tools, release 11.2, V11.2.152\n",
      "Build cuda_11.2.r11.2/compiler.29618528_0\n"
     ]
    }
   ],
   "source": [
    "!nvcc --version\n"
   ]
  },
  {
   "cell_type": "code",
   "execution_count": 4,
   "id": "71cea79c-4313-44d6-aa12-0db4208a849a",
   "metadata": {},
   "outputs": [
    {
     "name": "stdout",
     "output_type": "stream",
     "text": [
      "Mon Apr 17 18:03:40 2023       \n",
      "+-----------------------------------------------------------------------------+\n",
      "| NVIDIA-SMI 470.57.02    Driver Version: 470.57.02    CUDA Version: 11.4     |\n",
      "|-------------------------------+----------------------+----------------------+\n",
      "| GPU  Name        Persistence-M| Bus-Id        Disp.A | Volatile Uncorr. ECC |\n",
      "| Fan  Temp  Perf  Pwr:Usage/Cap|         Memory-Usage | GPU-Util  Compute M. |\n",
      "|                               |                      |               MIG M. |\n",
      "|===============================+======================+======================|\n",
      "|   0  Tesla T4            Off  | 00000000:00:1E.0 Off |                    0 |\n",
      "| N/A   35C    P0    25W /  70W |  14580MiB / 15109MiB |      0%      Default |\n",
      "|                               |                      |                  N/A |\n",
      "+-------------------------------+----------------------+----------------------+\n",
      "                                                                               \n",
      "+-----------------------------------------------------------------------------+\n",
      "| Processes:                                                                  |\n",
      "|  GPU   GI   CI        PID   Type   Process name                  GPU Memory |\n",
      "|        ID   ID                                                   Usage      |\n",
      "|=============================================================================|\n",
      "+-----------------------------------------------------------------------------+\n"
     ]
    }
   ],
   "source": [
    "!nvidia-smi"
   ]
  },
  {
   "cell_type": "code",
   "execution_count": null,
   "id": "24e12115-99a9-44cd-80bb-8d7b08782288",
   "metadata": {},
   "outputs": [],
   "source": []
  }
 ],
 "metadata": {
  "kernelspec": {
   "display_name": "fpwbs_v1:Python",
   "language": "python",
   "name": "conda-env-fpwbs_v1-py"
  },
  "language_info": {
   "codemirror_mode": {
    "name": "ipython",
    "version": 3
   },
   "file_extension": ".py",
   "mimetype": "text/x-python",
   "name": "python",
   "nbconvert_exporter": "python",
   "pygments_lexer": "ipython3",
   "version": "3.9.16"
  }
 },
 "nbformat": 4,
 "nbformat_minor": 5
}
